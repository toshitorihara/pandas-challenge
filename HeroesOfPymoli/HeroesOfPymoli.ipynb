{
 "cells": [
  {
   "cell_type": "code",
   "execution_count": 1,
   "metadata": {
    "collapsed": true
   },
   "outputs": [],
   "source": [
    "import pandas as pd\n",
    "import numpy as np\n",
    "csv_path = \"Resources/purchase_data.csv\"\n",
    "purchase_data = pd.read_csv(csv_path)"
   ]
  },
  {
   "cell_type": "code",
   "execution_count": 2,
   "metadata": {},
   "outputs": [
    {
     "output_type": "execute_result",
     "data": {
      "text/plain": [
       "   Total Players\n",
       "0            576"
      ],
      "text/html": "<div>\n<style scoped>\n    .dataframe tbody tr th:only-of-type {\n        vertical-align: middle;\n    }\n\n    .dataframe tbody tr th {\n        vertical-align: top;\n    }\n\n    .dataframe thead th {\n        text-align: right;\n    }\n</style>\n<table border=\"1\" class=\"dataframe\">\n  <thead>\n    <tr style=\"text-align: right;\">\n      <th></th>\n      <th>Total Players</th>\n    </tr>\n  </thead>\n  <tbody>\n    <tr>\n      <th>0</th>\n      <td>576</td>\n    </tr>\n  </tbody>\n</table>\n</div>"
     },
     "metadata": {},
     "execution_count": 2
    }
   ],
   "source": [
    "# 1. Player Count\n",
    "total_players = len(purchase_data[\"SN\"].value_counts())\n",
    "player_count = pd.DataFrame({\"Total Players\":[total_players]})\n",
    "player_count"
   ]
  },
  {
   "cell_type": "code",
   "execution_count": 3,
   "metadata": {},
   "outputs": [
    {
     "output_type": "execute_result",
     "data": {
      "text/plain": [
       "<pandas.io.formats.style.Styler at 0x12b619d5eb8>"
      ],
      "text/html": "<style  type=\"text/css\" >\n</style><table id=\"T_f5fd143a_c8a1_11eb_8886_b068e608861a\" ><thead>    <tr>        <th class=\"blank level0\" ></th>        <th class=\"col_heading level0 col0\" >Number of Unique Items</th>        <th class=\"col_heading level0 col1\" >Average Price</th>        <th class=\"col_heading level0 col2\" >Number of Purchases</th>        <th class=\"col_heading level0 col3\" >Total Revenue</th>    </tr></thead><tbody>\n                <tr>\n                        <th id=\"T_f5fd143a_c8a1_11eb_8886_b068e608861alevel0_row0\" class=\"row_heading level0 row0\" >0</th>\n                        <td id=\"T_f5fd143a_c8a1_11eb_8886_b068e608861arow0_col0\" class=\"data row0 col0\" >179</td>\n                        <td id=\"T_f5fd143a_c8a1_11eb_8886_b068e608861arow0_col1\" class=\"data row0 col1\" >$3.05</td>\n                        <td id=\"T_f5fd143a_c8a1_11eb_8886_b068e608861arow0_col2\" class=\"data row0 col2\" >780</td>\n                        <td id=\"T_f5fd143a_c8a1_11eb_8886_b068e608861arow0_col3\" class=\"data row0 col3\" >$2,379.77</td>\n            </tr>\n    </tbody></table>"
     },
     "metadata": {},
     "execution_count": 3
    }
   ],
   "source": [
    "# 2. Purchasing Analysis (Total)\n",
    "number_of_unique_items = len((purchase_data[\"Item ID\"]).unique())\n",
    "average_price = (purchase_data[\"Price\"]).mean()\n",
    "number_of_purchases = (purchase_data[\"Purchase ID\"]).count()\n",
    "total_revenue = (purchase_data[\"Price\"]).sum()\n",
    "\n",
    "summary_df = pd.DataFrame({\"Number of Unique Items\": [number_of_unique_items], \"Average Price\": [average_price], \"Number of Purchases\": [number_of_purchases], \"Total Revenue\": [total_revenue]})\n",
    "\n",
    "summary_df.style.format({\"Average Price\": \"${:,.2f}\", \"Total Revenue\": \"${:,.2f}\"})"
   ]
  },
  {
   "cell_type": "code",
   "execution_count": 4,
   "metadata": {},
   "outputs": [
    {
     "output_type": "execute_result",
     "data": {
      "text/plain": [
       "<pandas.io.formats.style.Styler at 0x12b63a94da0>"
      ],
      "text/html": "<style  type=\"text/css\" >\n</style><table id=\"T_f601092e_c8a1_11eb_9991_b068e608861a\" ><thead>    <tr>        <th class=\"blank level0\" ></th>        <th class=\"col_heading level0 col0\" >Total Count</th>        <th class=\"col_heading level0 col1\" >Percentage of Players</th>    </tr></thead><tbody>\n                <tr>\n                        <th id=\"T_f601092e_c8a1_11eb_9991_b068e608861alevel0_row0\" class=\"row_heading level0 row0\" >Male</th>\n                        <td id=\"T_f601092e_c8a1_11eb_9991_b068e608861arow0_col0\" class=\"data row0 col0\" >484</td>\n                        <td id=\"T_f601092e_c8a1_11eb_9991_b068e608861arow0_col1\" class=\"data row0 col1\" >84.03%</td>\n            </tr>\n            <tr>\n                        <th id=\"T_f601092e_c8a1_11eb_9991_b068e608861alevel0_row1\" class=\"row_heading level0 row1\" >Female</th>\n                        <td id=\"T_f601092e_c8a1_11eb_9991_b068e608861arow1_col0\" class=\"data row1 col0\" >81</td>\n                        <td id=\"T_f601092e_c8a1_11eb_9991_b068e608861arow1_col1\" class=\"data row1 col1\" >14.06%</td>\n            </tr>\n            <tr>\n                        <th id=\"T_f601092e_c8a1_11eb_9991_b068e608861alevel0_row2\" class=\"row_heading level0 row2\" >Other / Non-Disclosed</th>\n                        <td id=\"T_f601092e_c8a1_11eb_9991_b068e608861arow2_col0\" class=\"data row2 col0\" >11</td>\n                        <td id=\"T_f601092e_c8a1_11eb_9991_b068e608861arow2_col1\" class=\"data row2 col1\" >1.91%</td>\n            </tr>\n    </tbody></table>"
     },
     "metadata": {},
     "execution_count": 4
    }
   ],
   "source": [
    "# 3. Gender Demographics\n",
    "gender_data = purchase_data.groupby(\"Gender\")\n",
    "total_count_gender = gender_data.nunique()[\"SN\"]\n",
    "percentage_of_players = total_count_gender / total_players * 100\n",
    "\n",
    "gender_demographics = pd.DataFrame({\"Total Count\": total_count_gender, \"Percentage of Players\": percentage_of_players})\n",
    "gender_demographics.index.name = None\n",
    "\n",
    "gender_data = purchase_data.groupby(\"Gender\")\n",
    "gender_demographics.sort_values([\"Total Count\"], ascending = False).style.format({\"Percentage of Players\":\"{:.2f}%\"})\n"
   ]
  },
  {
   "cell_type": "code",
   "execution_count": 5,
   "metadata": {},
   "outputs": [
    {
     "output_type": "execute_result",
     "data": {
      "text/plain": [
       "<pandas.io.formats.style.Styler at 0x12b64097cc0>"
      ],
      "text/html": "<style  type=\"text/css\" >\n</style><table id=\"T_f604d70c_c8a1_11eb_9007_b068e608861a\" ><thead>    <tr>        <th class=\"blank level0\" ></th>        <th class=\"col_heading level0 col0\" >Purchase Count</th>        <th class=\"col_heading level0 col1\" >Average Purchase Price</th>        <th class=\"col_heading level0 col2\" >Total Purchase Value</th>        <th class=\"col_heading level0 col3\" >Avg Purchase per Person</th>    </tr>    <tr>        <th class=\"index_name level0\" >Gender</th>        <th class=\"blank\" ></th>        <th class=\"blank\" ></th>        <th class=\"blank\" ></th>        <th class=\"blank\" ></th>    </tr></thead><tbody>\n                <tr>\n                        <th id=\"T_f604d70c_c8a1_11eb_9007_b068e608861alevel0_row0\" class=\"row_heading level0 row0\" >Female</th>\n                        <td id=\"T_f604d70c_c8a1_11eb_9007_b068e608861arow0_col0\" class=\"data row0 col0\" >113</td>\n                        <td id=\"T_f604d70c_c8a1_11eb_9007_b068e608861arow0_col1\" class=\"data row0 col1\" >$3.20</td>\n                        <td id=\"T_f604d70c_c8a1_11eb_9007_b068e608861arow0_col2\" class=\"data row0 col2\" >$361.94</td>\n                        <td id=\"T_f604d70c_c8a1_11eb_9007_b068e608861arow0_col3\" class=\"data row0 col3\" >$4.47</td>\n            </tr>\n            <tr>\n                        <th id=\"T_f604d70c_c8a1_11eb_9007_b068e608861alevel0_row1\" class=\"row_heading level0 row1\" >Male</th>\n                        <td id=\"T_f604d70c_c8a1_11eb_9007_b068e608861arow1_col0\" class=\"data row1 col0\" >652</td>\n                        <td id=\"T_f604d70c_c8a1_11eb_9007_b068e608861arow1_col1\" class=\"data row1 col1\" >$3.02</td>\n                        <td id=\"T_f604d70c_c8a1_11eb_9007_b068e608861arow1_col2\" class=\"data row1 col2\" >$1,967.64</td>\n                        <td id=\"T_f604d70c_c8a1_11eb_9007_b068e608861arow1_col3\" class=\"data row1 col3\" >$4.07</td>\n            </tr>\n            <tr>\n                        <th id=\"T_f604d70c_c8a1_11eb_9007_b068e608861alevel0_row2\" class=\"row_heading level0 row2\" >Other / Non-Disclosed</th>\n                        <td id=\"T_f604d70c_c8a1_11eb_9007_b068e608861arow2_col0\" class=\"data row2 col0\" >15</td>\n                        <td id=\"T_f604d70c_c8a1_11eb_9007_b068e608861arow2_col1\" class=\"data row2 col1\" >$3.35</td>\n                        <td id=\"T_f604d70c_c8a1_11eb_9007_b068e608861arow2_col2\" class=\"data row2 col2\" >$50.19</td>\n                        <td id=\"T_f604d70c_c8a1_11eb_9007_b068e608861arow2_col3\" class=\"data row2 col3\" >$4.56</td>\n            </tr>\n    </tbody></table>"
     },
     "metadata": {},
     "execution_count": 5
    }
   ],
   "source": [
    "# 4. Purchasing Analysis (Gender)\n",
    "purchase_count = gender_data[\"Purchase ID\"].count()\n",
    "avg_purchase_price = gender_data[\"Price\"].mean()\n",
    "total_purchase_value = gender_data[\"Price\"].sum()\n",
    "avg_purchase_per_person = total_purchase_value / total_count_gender\n",
    "\n",
    "gender_demographics = pd.DataFrame({\"Purchase Count\": purchase_count, \n",
    "                                    \"Average Purchase Price\": avg_purchase_price,\n",
    "                                    \"Total Purchase Value\": total_purchase_value,\n",
    "                                    \"Avg Purchase per Person\": avg_purchase_per_person})\n",
    "\n",
    "gender_demographics.index.name = \"Gender\"\n",
    "gender_demographics.style.format({\"Average Purchase Price\":\"${:,.2f}\",\n",
    "                                  \"Total Purchase Value\":\"${:,.2f}\",\n",
    "                                  \"Avg Purchase per Person\":\"${:,.2f}\"})"
   ]
  },
  {
   "cell_type": "code",
   "execution_count": 6,
   "metadata": {},
   "outputs": [
    {
     "output_type": "execute_result",
     "data": {
      "text/plain": [
       "<pandas.io.formats.style.Styler at 0x12b64a461d0>"
      ],
      "text/html": "<style  type=\"text/css\" >\n</style><table id=\"T_f60967cc_c8a1_11eb_a801_b068e608861a\" ><thead>    <tr>        <th class=\"blank level0\" ></th>        <th class=\"col_heading level0 col0\" >Total Count</th>        <th class=\"col_heading level0 col1\" >Percentage of Players</th>    </tr></thead><tbody>\n                <tr>\n                        <th id=\"T_f60967cc_c8a1_11eb_a801_b068e608861alevel0_row0\" class=\"row_heading level0 row0\" ><10</th>\n                        <td id=\"T_f60967cc_c8a1_11eb_a801_b068e608861arow0_col0\" class=\"data row0 col0\" >17</td>\n                        <td id=\"T_f60967cc_c8a1_11eb_a801_b068e608861arow0_col1\" class=\"data row0 col1\" >2.95%</td>\n            </tr>\n            <tr>\n                        <th id=\"T_f60967cc_c8a1_11eb_a801_b068e608861alevel0_row1\" class=\"row_heading level0 row1\" >10-14</th>\n                        <td id=\"T_f60967cc_c8a1_11eb_a801_b068e608861arow1_col0\" class=\"data row1 col0\" >22</td>\n                        <td id=\"T_f60967cc_c8a1_11eb_a801_b068e608861arow1_col1\" class=\"data row1 col1\" >3.82%</td>\n            </tr>\n            <tr>\n                        <th id=\"T_f60967cc_c8a1_11eb_a801_b068e608861alevel0_row2\" class=\"row_heading level0 row2\" >15-19</th>\n                        <td id=\"T_f60967cc_c8a1_11eb_a801_b068e608861arow2_col0\" class=\"data row2 col0\" >107</td>\n                        <td id=\"T_f60967cc_c8a1_11eb_a801_b068e608861arow2_col1\" class=\"data row2 col1\" >18.58%</td>\n            </tr>\n            <tr>\n                        <th id=\"T_f60967cc_c8a1_11eb_a801_b068e608861alevel0_row3\" class=\"row_heading level0 row3\" >20-24</th>\n                        <td id=\"T_f60967cc_c8a1_11eb_a801_b068e608861arow3_col0\" class=\"data row3 col0\" >258</td>\n                        <td id=\"T_f60967cc_c8a1_11eb_a801_b068e608861arow3_col1\" class=\"data row3 col1\" >44.79%</td>\n            </tr>\n            <tr>\n                        <th id=\"T_f60967cc_c8a1_11eb_a801_b068e608861alevel0_row4\" class=\"row_heading level0 row4\" >25-29</th>\n                        <td id=\"T_f60967cc_c8a1_11eb_a801_b068e608861arow4_col0\" class=\"data row4 col0\" >77</td>\n                        <td id=\"T_f60967cc_c8a1_11eb_a801_b068e608861arow4_col1\" class=\"data row4 col1\" >13.37%</td>\n            </tr>\n            <tr>\n                        <th id=\"T_f60967cc_c8a1_11eb_a801_b068e608861alevel0_row5\" class=\"row_heading level0 row5\" >30-34</th>\n                        <td id=\"T_f60967cc_c8a1_11eb_a801_b068e608861arow5_col0\" class=\"data row5 col0\" >52</td>\n                        <td id=\"T_f60967cc_c8a1_11eb_a801_b068e608861arow5_col1\" class=\"data row5 col1\" >9.03%</td>\n            </tr>\n            <tr>\n                        <th id=\"T_f60967cc_c8a1_11eb_a801_b068e608861alevel0_row6\" class=\"row_heading level0 row6\" >35-39</th>\n                        <td id=\"T_f60967cc_c8a1_11eb_a801_b068e608861arow6_col0\" class=\"data row6 col0\" >31</td>\n                        <td id=\"T_f60967cc_c8a1_11eb_a801_b068e608861arow6_col1\" class=\"data row6 col1\" >5.38%</td>\n            </tr>\n            <tr>\n                        <th id=\"T_f60967cc_c8a1_11eb_a801_b068e608861alevel0_row7\" class=\"row_heading level0 row7\" >40+</th>\n                        <td id=\"T_f60967cc_c8a1_11eb_a801_b068e608861arow7_col0\" class=\"data row7 col0\" >12</td>\n                        <td id=\"T_f60967cc_c8a1_11eb_a801_b068e608861arow7_col1\" class=\"data row7 col1\" >2.08%</td>\n            </tr>\n    </tbody></table>"
     },
     "metadata": {},
     "execution_count": 6
    }
   ],
   "source": [
    "# 5. Age Demographics\n",
    "bins = [0, 9, 14, 19, 24, 29, 34, 39, 200]\n",
    "group_labels = [\"<10\", \"10-14\", \"15-19\", \"20-24\", \"25-29\", \"30-34\", \"35-39\", \"40+\"]\n",
    "purchase_data[\"Age Group\"] = pd.cut(purchase_data[\"Age\"], bins, labels=group_labels)\n",
    "purchase_data\n",
    "\n",
    "age_grouped = purchase_data.groupby(\"Age Group\")\n",
    "total_count_age = age_grouped[\"SN\"].nunique()\n",
    "percentage_by_age = (total_count_age / total_players) * 100\n",
    "\n",
    "age_demographics = pd.DataFrame({\"Total Count\": total_count_age, \"Percentage of Players\": percentage_by_age})\n",
    "age_demographics.index.name = None\n",
    "age_demographics.style.format({\"Percentage of Players\":\"{:,.2f}%\"})"
   ]
  },
  {
   "cell_type": "code",
   "execution_count": 7,
   "metadata": {},
   "outputs": [
    {
     "output_type": "execute_result",
     "data": {
      "text/plain": [
       "<pandas.io.formats.style.Styler at 0x12b64a46550>"
      ],
      "text/html": "<style  type=\"text/css\" >\n</style><table id=\"T_f60bb030_c8a1_11eb_8521_b068e608861a\" ><thead>    <tr>        <th class=\"blank level0\" ></th>        <th class=\"col_heading level0 col0\" >Purchase Count</th>        <th class=\"col_heading level0 col1\" >Average Purchase Price</th>        <th class=\"col_heading level0 col2\" >Total Purchase Value</th>        <th class=\"col_heading level0 col3\" >Average Total Purchase per Person</th>    </tr>    <tr>        <th class=\"index_name level0\" >Age Ranges</th>        <th class=\"blank\" ></th>        <th class=\"blank\" ></th>        <th class=\"blank\" ></th>        <th class=\"blank\" ></th>    </tr></thead><tbody>\n                <tr>\n                        <th id=\"T_f60bb030_c8a1_11eb_8521_b068e608861alevel0_row0\" class=\"row_heading level0 row0\" ><10</th>\n                        <td id=\"T_f60bb030_c8a1_11eb_8521_b068e608861arow0_col0\" class=\"data row0 col0\" >23</td>\n                        <td id=\"T_f60bb030_c8a1_11eb_8521_b068e608861arow0_col1\" class=\"data row0 col1\" >$3.35</td>\n                        <td id=\"T_f60bb030_c8a1_11eb_8521_b068e608861arow0_col2\" class=\"data row0 col2\" >$77.13</td>\n                        <td id=\"T_f60bb030_c8a1_11eb_8521_b068e608861arow0_col3\" class=\"data row0 col3\" >$4.54</td>\n            </tr>\n            <tr>\n                        <th id=\"T_f60bb030_c8a1_11eb_8521_b068e608861alevel0_row1\" class=\"row_heading level0 row1\" >10-14</th>\n                        <td id=\"T_f60bb030_c8a1_11eb_8521_b068e608861arow1_col0\" class=\"data row1 col0\" >28</td>\n                        <td id=\"T_f60bb030_c8a1_11eb_8521_b068e608861arow1_col1\" class=\"data row1 col1\" >$2.96</td>\n                        <td id=\"T_f60bb030_c8a1_11eb_8521_b068e608861arow1_col2\" class=\"data row1 col2\" >$82.78</td>\n                        <td id=\"T_f60bb030_c8a1_11eb_8521_b068e608861arow1_col3\" class=\"data row1 col3\" >$3.76</td>\n            </tr>\n            <tr>\n                        <th id=\"T_f60bb030_c8a1_11eb_8521_b068e608861alevel0_row2\" class=\"row_heading level0 row2\" >15-19</th>\n                        <td id=\"T_f60bb030_c8a1_11eb_8521_b068e608861arow2_col0\" class=\"data row2 col0\" >136</td>\n                        <td id=\"T_f60bb030_c8a1_11eb_8521_b068e608861arow2_col1\" class=\"data row2 col1\" >$3.04</td>\n                        <td id=\"T_f60bb030_c8a1_11eb_8521_b068e608861arow2_col2\" class=\"data row2 col2\" >$412.89</td>\n                        <td id=\"T_f60bb030_c8a1_11eb_8521_b068e608861arow2_col3\" class=\"data row2 col3\" >$3.86</td>\n            </tr>\n            <tr>\n                        <th id=\"T_f60bb030_c8a1_11eb_8521_b068e608861alevel0_row3\" class=\"row_heading level0 row3\" >20-24</th>\n                        <td id=\"T_f60bb030_c8a1_11eb_8521_b068e608861arow3_col0\" class=\"data row3 col0\" >365</td>\n                        <td id=\"T_f60bb030_c8a1_11eb_8521_b068e608861arow3_col1\" class=\"data row3 col1\" >$3.05</td>\n                        <td id=\"T_f60bb030_c8a1_11eb_8521_b068e608861arow3_col2\" class=\"data row3 col2\" >$1,114.06</td>\n                        <td id=\"T_f60bb030_c8a1_11eb_8521_b068e608861arow3_col3\" class=\"data row3 col3\" >$4.32</td>\n            </tr>\n            <tr>\n                        <th id=\"T_f60bb030_c8a1_11eb_8521_b068e608861alevel0_row4\" class=\"row_heading level0 row4\" >25-29</th>\n                        <td id=\"T_f60bb030_c8a1_11eb_8521_b068e608861arow4_col0\" class=\"data row4 col0\" >101</td>\n                        <td id=\"T_f60bb030_c8a1_11eb_8521_b068e608861arow4_col1\" class=\"data row4 col1\" >$2.90</td>\n                        <td id=\"T_f60bb030_c8a1_11eb_8521_b068e608861arow4_col2\" class=\"data row4 col2\" >$293.00</td>\n                        <td id=\"T_f60bb030_c8a1_11eb_8521_b068e608861arow4_col3\" class=\"data row4 col3\" >$3.81</td>\n            </tr>\n            <tr>\n                        <th id=\"T_f60bb030_c8a1_11eb_8521_b068e608861alevel0_row5\" class=\"row_heading level0 row5\" >30-34</th>\n                        <td id=\"T_f60bb030_c8a1_11eb_8521_b068e608861arow5_col0\" class=\"data row5 col0\" >73</td>\n                        <td id=\"T_f60bb030_c8a1_11eb_8521_b068e608861arow5_col1\" class=\"data row5 col1\" >$2.93</td>\n                        <td id=\"T_f60bb030_c8a1_11eb_8521_b068e608861arow5_col2\" class=\"data row5 col2\" >$214.00</td>\n                        <td id=\"T_f60bb030_c8a1_11eb_8521_b068e608861arow5_col3\" class=\"data row5 col3\" >$4.12</td>\n            </tr>\n            <tr>\n                        <th id=\"T_f60bb030_c8a1_11eb_8521_b068e608861alevel0_row6\" class=\"row_heading level0 row6\" >35-39</th>\n                        <td id=\"T_f60bb030_c8a1_11eb_8521_b068e608861arow6_col0\" class=\"data row6 col0\" >41</td>\n                        <td id=\"T_f60bb030_c8a1_11eb_8521_b068e608861arow6_col1\" class=\"data row6 col1\" >$3.60</td>\n                        <td id=\"T_f60bb030_c8a1_11eb_8521_b068e608861arow6_col2\" class=\"data row6 col2\" >$147.67</td>\n                        <td id=\"T_f60bb030_c8a1_11eb_8521_b068e608861arow6_col3\" class=\"data row6 col3\" >$4.76</td>\n            </tr>\n            <tr>\n                        <th id=\"T_f60bb030_c8a1_11eb_8521_b068e608861alevel0_row7\" class=\"row_heading level0 row7\" >40+</th>\n                        <td id=\"T_f60bb030_c8a1_11eb_8521_b068e608861arow7_col0\" class=\"data row7 col0\" >13</td>\n                        <td id=\"T_f60bb030_c8a1_11eb_8521_b068e608861arow7_col1\" class=\"data row7 col1\" >$2.94</td>\n                        <td id=\"T_f60bb030_c8a1_11eb_8521_b068e608861arow7_col2\" class=\"data row7 col2\" >$38.24</td>\n                        <td id=\"T_f60bb030_c8a1_11eb_8521_b068e608861arow7_col3\" class=\"data row7 col3\" >$3.19</td>\n            </tr>\n    </tbody></table>"
     },
     "metadata": {},
     "execution_count": 7
    }
   ],
   "source": [
    "# 6. Purchasing Analysis (age)\n",
    "purchase_count_age = age_grouped[\"Purchase ID\"].count()\n",
    "avg_purchase_price_age = age_grouped[\"Price\"].mean()\n",
    "total_purchase_value_age = age_grouped[\"Price\"].sum()\n",
    "avg_total_purchase_per_person_age = total_purchase_value_age / total_count_age\n",
    "\n",
    "age_demographics = pd.DataFrame({\"Purchase Count\": purchase_count_age,\n",
    "                                 \"Average Purchase Price\": avg_purchase_price_age,\n",
    "                                 \"Total Purchase Value\":total_purchase_value_age,\n",
    "                                 \"Average Total Purchase per Person\": avg_total_purchase_per_person_age})\n",
    "\n",
    "age_demographics.index.name = \"Age Ranges\"\n",
    "age_demographics.style.format({\"Average Purchase Price\":\"${:,.2f}\",\n",
    "                               \"Total Purchase Value\":\"${:,.2f}\",\n",
    "                               \"Average Total Purchase per Person\":\"${:,.2f}\"})"
   ]
  },
  {
   "cell_type": "code",
   "execution_count": 8,
   "metadata": {},
   "outputs": [
    {
     "output_type": "execute_result",
     "data": {
      "text/plain": [
       "<pandas.io.formats.style.Styler at 0x12b64a46780>"
      ],
      "text/html": "<style  type=\"text/css\" >\n</style><table id=\"T_f63c2194_c8a1_11eb_8899_b068e608861a\" ><thead>    <tr>        <th class=\"blank level0\" ></th>        <th class=\"col_heading level0 col0\" >Purchase Count</th>        <th class=\"col_heading level0 col1\" >Average Purchase Price</th>        <th class=\"col_heading level0 col2\" >Total Purchase Value</th>    </tr>    <tr>        <th class=\"index_name level0\" >SN</th>        <th class=\"blank\" ></th>        <th class=\"blank\" ></th>        <th class=\"blank\" ></th>    </tr></thead><tbody>\n                <tr>\n                        <th id=\"T_f63c2194_c8a1_11eb_8899_b068e608861alevel0_row0\" class=\"row_heading level0 row0\" >Lisosia93</th>\n                        <td id=\"T_f63c2194_c8a1_11eb_8899_b068e608861arow0_col0\" class=\"data row0 col0\" >5</td>\n                        <td id=\"T_f63c2194_c8a1_11eb_8899_b068e608861arow0_col1\" class=\"data row0 col1\" >$3.79</td>\n                        <td id=\"T_f63c2194_c8a1_11eb_8899_b068e608861arow0_col2\" class=\"data row0 col2\" >$18.96</td>\n            </tr>\n            <tr>\n                        <th id=\"T_f63c2194_c8a1_11eb_8899_b068e608861alevel0_row1\" class=\"row_heading level0 row1\" >Idastidru52</th>\n                        <td id=\"T_f63c2194_c8a1_11eb_8899_b068e608861arow1_col0\" class=\"data row1 col0\" >4</td>\n                        <td id=\"T_f63c2194_c8a1_11eb_8899_b068e608861arow1_col1\" class=\"data row1 col1\" >$3.86</td>\n                        <td id=\"T_f63c2194_c8a1_11eb_8899_b068e608861arow1_col2\" class=\"data row1 col2\" >$15.45</td>\n            </tr>\n            <tr>\n                        <th id=\"T_f63c2194_c8a1_11eb_8899_b068e608861alevel0_row2\" class=\"row_heading level0 row2\" >Chamjask73</th>\n                        <td id=\"T_f63c2194_c8a1_11eb_8899_b068e608861arow2_col0\" class=\"data row2 col0\" >3</td>\n                        <td id=\"T_f63c2194_c8a1_11eb_8899_b068e608861arow2_col1\" class=\"data row2 col1\" >$4.61</td>\n                        <td id=\"T_f63c2194_c8a1_11eb_8899_b068e608861arow2_col2\" class=\"data row2 col2\" >$13.83</td>\n            </tr>\n            <tr>\n                        <th id=\"T_f63c2194_c8a1_11eb_8899_b068e608861alevel0_row3\" class=\"row_heading level0 row3\" >Iral74</th>\n                        <td id=\"T_f63c2194_c8a1_11eb_8899_b068e608861arow3_col0\" class=\"data row3 col0\" >4</td>\n                        <td id=\"T_f63c2194_c8a1_11eb_8899_b068e608861arow3_col1\" class=\"data row3 col1\" >$3.40</td>\n                        <td id=\"T_f63c2194_c8a1_11eb_8899_b068e608861arow3_col2\" class=\"data row3 col2\" >$13.62</td>\n            </tr>\n            <tr>\n                        <th id=\"T_f63c2194_c8a1_11eb_8899_b068e608861alevel0_row4\" class=\"row_heading level0 row4\" >Iskadarya95</th>\n                        <td id=\"T_f63c2194_c8a1_11eb_8899_b068e608861arow4_col0\" class=\"data row4 col0\" >3</td>\n                        <td id=\"T_f63c2194_c8a1_11eb_8899_b068e608861arow4_col1\" class=\"data row4 col1\" >$4.37</td>\n                        <td id=\"T_f63c2194_c8a1_11eb_8899_b068e608861arow4_col2\" class=\"data row4 col2\" >$13.10</td>\n            </tr>\n    </tbody></table>"
     },
     "metadata": {},
     "execution_count": 8
    }
   ],
   "source": [
    "# 7. Top Spenders\n",
    "spender_data = purchase_data.groupby(\"SN\")\n",
    "purchase_count_spender = spender_data[\"Purchase ID\"].count()\n",
    "avg_purchase_price_spender = spender_data[\"Price\"].mean()\n",
    "total_purchase_spender = spender_data[\"Price\"].sum()\n",
    "\n",
    "top_spenders = pd.DataFrame({\"Purchase Count\": purchase_count_spender,\n",
    "                             \"Average Purchase Price\": avg_purchase_price_spender,\n",
    "                             \"Total Purchase Value\": total_purchase_spender})\n",
    "\n",
    "summary_spenders = top_spenders.sort_values([\"Total Purchase Value\"], ascending=False).head()\n",
    "summary_spenders.style.format({\"Average Purchase Total\":\"${:,.2f}\",\n",
    "                                 \"Average Purchase Price\":\"${:,.2f}\", \n",
    "                                 \"Total Purchase Value\":\"${:,.2f}\"})"
   ]
  },
  {
   "cell_type": "code",
   "execution_count": 9,
   "metadata": {},
   "outputs": [
    {
     "output_type": "execute_result",
     "data": {
      "text/plain": [
       "<pandas.io.formats.style.Styler at 0x12b64a551d0>"
      ],
      "text/html": "<style  type=\"text/css\" >\n</style><table id=\"T_f68be82e_c8a1_11eb_96c9_b068e608861a\" ><thead>    <tr>        <th class=\"blank\" ></th>        <th class=\"blank level0\" ></th>        <th class=\"col_heading level0 col0\" >Purchase Count</th>        <th class=\"col_heading level0 col1\" >Item Price</th>        <th class=\"col_heading level0 col2\" >Total Purchase Value</th>    </tr>    <tr>        <th class=\"index_name level0\" >Item ID</th>        <th class=\"index_name level1\" >Item Name</th>        <th class=\"blank\" ></th>        <th class=\"blank\" ></th>        <th class=\"blank\" ></th>    </tr></thead><tbody>\n                <tr>\n                        <th id=\"T_f68be82e_c8a1_11eb_96c9_b068e608861alevel0_row0\" class=\"row_heading level0 row0\" >92</th>\n                        <th id=\"T_f68be82e_c8a1_11eb_96c9_b068e608861alevel1_row0\" class=\"row_heading level1 row0\" >Final Critic</th>\n                        <td id=\"T_f68be82e_c8a1_11eb_96c9_b068e608861arow0_col0\" class=\"data row0 col0\" >13</td>\n                        <td id=\"T_f68be82e_c8a1_11eb_96c9_b068e608861arow0_col1\" class=\"data row0 col1\" >$4.61</td>\n                        <td id=\"T_f68be82e_c8a1_11eb_96c9_b068e608861arow0_col2\" class=\"data row0 col2\" >$59.99</td>\n            </tr>\n            <tr>\n                        <th id=\"T_f68be82e_c8a1_11eb_96c9_b068e608861alevel0_row1\" class=\"row_heading level0 row1\" >178</th>\n                        <th id=\"T_f68be82e_c8a1_11eb_96c9_b068e608861alevel1_row1\" class=\"row_heading level1 row1\" >Oathbreaker, Last Hope of the Breaking Storm</th>\n                        <td id=\"T_f68be82e_c8a1_11eb_96c9_b068e608861arow1_col0\" class=\"data row1 col0\" >12</td>\n                        <td id=\"T_f68be82e_c8a1_11eb_96c9_b068e608861arow1_col1\" class=\"data row1 col1\" >$4.23</td>\n                        <td id=\"T_f68be82e_c8a1_11eb_96c9_b068e608861arow1_col2\" class=\"data row1 col2\" >$50.76</td>\n            </tr>\n            <tr>\n                        <th id=\"T_f68be82e_c8a1_11eb_96c9_b068e608861alevel0_row2\" class=\"row_heading level0 row2\" >145</th>\n                        <th id=\"T_f68be82e_c8a1_11eb_96c9_b068e608861alevel1_row2\" class=\"row_heading level1 row2\" >Fiery Glass Crusader</th>\n                        <td id=\"T_f68be82e_c8a1_11eb_96c9_b068e608861arow2_col0\" class=\"data row2 col0\" >9</td>\n                        <td id=\"T_f68be82e_c8a1_11eb_96c9_b068e608861arow2_col1\" class=\"data row2 col1\" >$4.58</td>\n                        <td id=\"T_f68be82e_c8a1_11eb_96c9_b068e608861arow2_col2\" class=\"data row2 col2\" >$41.22</td>\n            </tr>\n            <tr>\n                        <th id=\"T_f68be82e_c8a1_11eb_96c9_b068e608861alevel0_row3\" class=\"row_heading level0 row3\" >132</th>\n                        <th id=\"T_f68be82e_c8a1_11eb_96c9_b068e608861alevel1_row3\" class=\"row_heading level1 row3\" >Persuasion</th>\n                        <td id=\"T_f68be82e_c8a1_11eb_96c9_b068e608861arow3_col0\" class=\"data row3 col0\" >9</td>\n                        <td id=\"T_f68be82e_c8a1_11eb_96c9_b068e608861arow3_col1\" class=\"data row3 col1\" >$3.22</td>\n                        <td id=\"T_f68be82e_c8a1_11eb_96c9_b068e608861arow3_col2\" class=\"data row3 col2\" >$28.99</td>\n            </tr>\n            <tr>\n                        <th id=\"T_f68be82e_c8a1_11eb_96c9_b068e608861alevel0_row4\" class=\"row_heading level0 row4\" >108</th>\n                        <th id=\"T_f68be82e_c8a1_11eb_96c9_b068e608861alevel1_row4\" class=\"row_heading level1 row4\" >Extraction, Quickblade Of Trembling Hands</th>\n                        <td id=\"T_f68be82e_c8a1_11eb_96c9_b068e608861arow4_col0\" class=\"data row4 col0\" >9</td>\n                        <td id=\"T_f68be82e_c8a1_11eb_96c9_b068e608861arow4_col1\" class=\"data row4 col1\" >$3.53</td>\n                        <td id=\"T_f68be82e_c8a1_11eb_96c9_b068e608861arow4_col2\" class=\"data row4 col2\" >$31.77</td>\n            </tr>\n    </tbody></table>"
     },
     "metadata": {},
     "execution_count": 9
    }
   ],
   "source": [
    "# 8. Most Popular Items\n",
    "items = purchase_data[[\"Item ID\", \"Item Name\", \"Price\"]]\n",
    "item_data = items.groupby([\"Item ID\",\"Item Name\"])\n",
    "purchase_count_item = item_data[\"Price\"].count()\n",
    "total_purchase_value_item = (item_data[\"Price\"].sum()) \n",
    "item_price = total_purchase_value_item / purchase_count_item\n",
    "\n",
    "most_popular_items = pd.DataFrame({\"Purchase Count\": purchase_count_item, \n",
    "                                   \"Item Price\": item_price,\n",
    "                                   \"Total Purchase Value\": total_purchase_value_item})\n",
    "\n",
    "summary_popular_items = most_popular_items.sort_values([\"Purchase Count\"], ascending=False).head()\n",
    "summary_popular_items.style.format({\"Item Price\":\"${:,.2f}\", \"Total Purchase Value\":\"${:,.2f}\"})"
   ]
  },
  {
   "cell_type": "code",
   "execution_count": 10,
   "metadata": {},
   "outputs": [
    {
     "output_type": "execute_result",
     "data": {
      "text/plain": [
       "<pandas.io.formats.style.Styler at 0x12b63ae77b8>"
      ],
      "text/html": "<style  type=\"text/css\" >\n</style><table id=\"T_f6dbfcde_c8a1_11eb_90ad_b068e608861a\" ><thead>    <tr>        <th class=\"blank\" ></th>        <th class=\"blank level0\" ></th>        <th class=\"col_heading level0 col0\" >Purchase Count</th>        <th class=\"col_heading level0 col1\" >Item Price</th>        <th class=\"col_heading level0 col2\" >Total Purchase Value</th>    </tr>    <tr>        <th class=\"index_name level0\" >Item ID</th>        <th class=\"index_name level1\" >Item Name</th>        <th class=\"blank\" ></th>        <th class=\"blank\" ></th>        <th class=\"blank\" ></th>    </tr></thead><tbody>\n                <tr>\n                        <th id=\"T_f6dbfcde_c8a1_11eb_90ad_b068e608861alevel0_row0\" class=\"row_heading level0 row0\" >92</th>\n                        <th id=\"T_f6dbfcde_c8a1_11eb_90ad_b068e608861alevel1_row0\" class=\"row_heading level1 row0\" >Final Critic</th>\n                        <td id=\"T_f6dbfcde_c8a1_11eb_90ad_b068e608861arow0_col0\" class=\"data row0 col0\" >13</td>\n                        <td id=\"T_f6dbfcde_c8a1_11eb_90ad_b068e608861arow0_col1\" class=\"data row0 col1\" >$4.61</td>\n                        <td id=\"T_f6dbfcde_c8a1_11eb_90ad_b068e608861arow0_col2\" class=\"data row0 col2\" >$59.99</td>\n            </tr>\n            <tr>\n                        <th id=\"T_f6dbfcde_c8a1_11eb_90ad_b068e608861alevel0_row1\" class=\"row_heading level0 row1\" >178</th>\n                        <th id=\"T_f6dbfcde_c8a1_11eb_90ad_b068e608861alevel1_row1\" class=\"row_heading level1 row1\" >Oathbreaker, Last Hope of the Breaking Storm</th>\n                        <td id=\"T_f6dbfcde_c8a1_11eb_90ad_b068e608861arow1_col0\" class=\"data row1 col0\" >12</td>\n                        <td id=\"T_f6dbfcde_c8a1_11eb_90ad_b068e608861arow1_col1\" class=\"data row1 col1\" >$4.23</td>\n                        <td id=\"T_f6dbfcde_c8a1_11eb_90ad_b068e608861arow1_col2\" class=\"data row1 col2\" >$50.76</td>\n            </tr>\n            <tr>\n                        <th id=\"T_f6dbfcde_c8a1_11eb_90ad_b068e608861alevel0_row2\" class=\"row_heading level0 row2\" >82</th>\n                        <th id=\"T_f6dbfcde_c8a1_11eb_90ad_b068e608861alevel1_row2\" class=\"row_heading level1 row2\" >Nirvana</th>\n                        <td id=\"T_f6dbfcde_c8a1_11eb_90ad_b068e608861arow2_col0\" class=\"data row2 col0\" >9</td>\n                        <td id=\"T_f6dbfcde_c8a1_11eb_90ad_b068e608861arow2_col1\" class=\"data row2 col1\" >$4.90</td>\n                        <td id=\"T_f6dbfcde_c8a1_11eb_90ad_b068e608861arow2_col2\" class=\"data row2 col2\" >$44.10</td>\n            </tr>\n            <tr>\n                        <th id=\"T_f6dbfcde_c8a1_11eb_90ad_b068e608861alevel0_row3\" class=\"row_heading level0 row3\" >145</th>\n                        <th id=\"T_f6dbfcde_c8a1_11eb_90ad_b068e608861alevel1_row3\" class=\"row_heading level1 row3\" >Fiery Glass Crusader</th>\n                        <td id=\"T_f6dbfcde_c8a1_11eb_90ad_b068e608861arow3_col0\" class=\"data row3 col0\" >9</td>\n                        <td id=\"T_f6dbfcde_c8a1_11eb_90ad_b068e608861arow3_col1\" class=\"data row3 col1\" >$4.58</td>\n                        <td id=\"T_f6dbfcde_c8a1_11eb_90ad_b068e608861arow3_col2\" class=\"data row3 col2\" >$41.22</td>\n            </tr>\n            <tr>\n                        <th id=\"T_f6dbfcde_c8a1_11eb_90ad_b068e608861alevel0_row4\" class=\"row_heading level0 row4\" >103</th>\n                        <th id=\"T_f6dbfcde_c8a1_11eb_90ad_b068e608861alevel1_row4\" class=\"row_heading level1 row4\" >Singed Scalpel</th>\n                        <td id=\"T_f6dbfcde_c8a1_11eb_90ad_b068e608861arow4_col0\" class=\"data row4 col0\" >8</td>\n                        <td id=\"T_f6dbfcde_c8a1_11eb_90ad_b068e608861arow4_col1\" class=\"data row4 col1\" >$4.35</td>\n                        <td id=\"T_f6dbfcde_c8a1_11eb_90ad_b068e608861arow4_col2\" class=\"data row4 col2\" >$34.80</td>\n            </tr>\n    </tbody></table>"
     },
     "metadata": {},
     "execution_count": 10
    }
   ],
   "source": [
    "# 9. Most Profitable Items\n",
    "summary_popular_items = most_popular_items.sort_values([\"Total Purchase Value\"], ascending=False).head()\n",
    "summary_popular_items.style.format({\"Item Price\":\"${:,.2f}\", \"Total Purchase Value\":\"${:,.2f}\"})"
   ]
  },
  {
   "cell_type": "code",
   "execution_count": null,
   "metadata": {},
   "outputs": [],
   "source": []
  }
 ],
 "metadata": {
  "kernelspec": {
   "name": "python3610jvsc74a57bd0352eb0fdbc39df23c3941759226aac7a80e9e8fcb0968112f6f9929c3d7daf2e",
   "display_name": "Python 3.6.10 64-bit ('PythonData': conda)"
  },
  "language_info": {
   "codemirror_mode": {
    "name": "ipython",
    "version": 3
   },
   "file_extension": ".py",
   "mimetype": "text/x-python",
   "name": "python",
   "nbconvert_exporter": "python",
   "pygments_lexer": "ipython3",
   "version": "3.6.10"
  }
 },
 "nbformat": 4,
 "nbformat_minor": 2
}